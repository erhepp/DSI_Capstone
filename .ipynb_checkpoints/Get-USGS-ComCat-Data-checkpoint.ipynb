{
 "cells": [
  {
   "cell_type": "raw",
   "metadata": {},
   "source": []
  },
  {
   "cell_type": "markdown",
   "metadata": {},
   "source": [
    "### Process for retrieving data using USGS ComCat API"
   ]
  },
  {
   "cell_type": "markdown",
   "metadata": {},
   "source": [
    "## Work with a sample JSON for quake data in WA and OR \n",
    "\n",
    "Learn how to work with the USGS ComCat formats"
   ]
  },
  {
   "cell_type": "code",
   "execution_count": 1,
   "metadata": {
    "collapsed": true
   },
   "outputs": [],
   "source": [
    "\n",
    "import json\n",
    "import pandas as pd\n",
    "from pprint import pprint"
   ]
  },
  {
   "cell_type": "code",
   "execution_count": 3,
   "metadata": {},
   "outputs": [],
   "source": [
    "with open(\"/Users/erhepp/dsi-nyc-6/capstone/project-capstone/RetrieveData/WA-OR-catalog.json\") as json_file:\n",
    "    json_data = json.load(json_file)"
   ]
  },
  {
   "cell_type": "code",
   "execution_count": 4,
   "metadata": {},
   "outputs": [
    {
     "data": {
      "text/plain": [
       "dict"
      ]
     },
     "execution_count": 4,
     "metadata": {},
     "output_type": "execute_result"
    }
   ],
   "source": [
    "type(json_data)"
   ]
  },
  {
   "cell_type": "code",
   "execution_count": 16,
   "metadata": {},
   "outputs": [
    {
     "name": "stdout",
     "output_type": "stream",
     "text": [
      "type\n",
      "features\n",
      "bbox\n",
      "metadata\n",
      "\n",
      "type FeatureCollection\n",
      "\n",
      "first feature\n",
      "{u'geometry': {u'type': u'Point', u'coordinates': [-122.6071667, 48.7741667, 16.27]}, u'type': u'Feature', u'properties': {u'rms': 0.21, u'code': u'61297016', u'cdi': 3.8, u'sources': u',uw,us,', u'nst': 31, u'tz': -480, u'title': u'M 3.1 - 4km S of Marietta, Washington', u'magType': u'ml', u'detail': u'https://earthquake.usgs.gov/fdsnws/event/1/query?eventid=uw61297016&format=geojson', u'sig': 257, u'net': u'uw', u'type': u'earthquake', u'status': u'reviewed', u'updated': 1500447547040, u'felt': 286, u'alert': None, u'dmin': 0.1771, u'mag': 3.1, u'gap': 99, u'types': u',dyfi,geoserve,origin,phase-data,shakemap,', u'url': u'https://earthquake.usgs.gov/earthquakes/eventpage/uw61297016', u'ids': u',uw61297016,us1000955h,', u'tsunami': 0, u'place': u'4km S of Marietta, Washington', u'time': 1498725603370, u'mmi': 2.9}, u'id': u'uw61297016'}\n",
      "\n",
      "bbox [-126.8669, 42.3306, 3.64, -118.5953333, 48.7741667, 56.45]\n",
      "\n",
      "metadata {u'status': 200, u'count': 30, u'title': u'USGS Earthquakes', u'url': u'https://earthquake.usgs.gov/fdsnws/event/1/query?format=geojson&starttime=2017-01-01&endtime=2017-07-01&minlatitude=42&maxlatitude=49&minlongitude=-127&maxlongitude=-116&eventtype=earthquake&producttype=dyfi&minmagnitude=2.5', u'generated': 1501363653000, u'api': u'1.5.8'}\n",
      "\n"
     ]
    }
   ],
   "source": [
    "# print the json, but only the first earthquake as example to shorten output\n",
    "\n",
    "for key, value in json_data.items():\n",
    "    print key\n",
    "    \n",
    "print    \n",
    "for key, value in json_data.items():\n",
    "    if key == 'features':\n",
    "        print \"first feature\"\n",
    "        print value[0]\n",
    "    else:    \n",
    "        print key, value\n",
    "    print"
   ]
  },
  {
   "cell_type": "code",
   "execution_count": 17,
   "metadata": {},
   "outputs": [
    {
     "data": {
      "text/plain": [
       "[-126.8669, 42.3306, 3.64, -118.5953333, 48.7741667, 56.45]"
      ]
     },
     "execution_count": 17,
     "metadata": {},
     "output_type": "execute_result"
    }
   ],
   "source": [
    "json_data['bbox']"
   ]
  },
  {
   "cell_type": "code",
   "execution_count": 18,
   "metadata": {},
   "outputs": [
    {
     "data": {
      "text/plain": [
       "30"
      ]
     },
     "execution_count": 18,
     "metadata": {},
     "output_type": "execute_result"
    }
   ],
   "source": [
    "json_data['metadata']['count']"
   ]
  },
  {
   "cell_type": "code",
   "execution_count": 21,
   "metadata": {},
   "outputs": [
    {
     "name": "stdout",
     "output_type": "stream",
     "text": [
      "[u'uw61297016', -122.6071667, 48.7741667, 16.27, None, 3.8, u'61297016', 286, 99, u'uw61297016,us1000955h', 3.1, u'ml', 2.9, u'uw', 31, u'4km S of Marietta, Washington', 0.21, 257, u',uw,us,', u'reviewed', 1498725603370, u'M 3.1 - 4km S of Marietta, Washington', 0, u'earthquake', u'dyfi,geoserve,origin,phase-data,shakemap', -480, 1500447547040, u'https://earthquake.usgs.gov/earthquakes/eventpage/uw61297016']\n",
      "\n",
      "[u'uw61276967', -121.6675, 48.2565, 8.47, None, 3.8, u'61276967', 31, 74, u'uw61276967,us20009pki', 2.92, u'ml', None, u'uw', 24, u'4km W of Darrington, Washington', 0.32, 143, u',uw,us,', u'reviewed', 1498361114610, u'M 2.9 - 4km W of Darrington, Washington', 0, u'earthquake', u'dyfi,geoserve,origin,phase-data', -480, 1501131675040, u'https://earthquake.usgs.gov/earthquakes/eventpage/uw61276967']\n"
     ]
    }
   ],
   "source": [
    "event_list = []\n",
    "for i in range(json_data['metadata']['count']):\n",
    "    event_line = []\n",
    "    event_line.append(json_data['features'][i]['id'])\n",
    "    event_line += json_data['features'][i]['geometry']['coordinates']\n",
    "    event_line.append(json_data['features'][i]['properties']['alert']),\n",
    "    event_line.append(json_data['features'][i]['properties']['cdi']),\n",
    "    event_line.append(json_data['features'][i]['properties']['code']),\n",
    "    event_line.append(json_data['features'][i]['properties']['felt']),\n",
    "    event_line.append(json_data['features'][i]['properties']['gap']),\n",
    "    event_line.append(json_data['features'][i]['properties']['ids'][1:-1]),\n",
    "    event_line.append(json_data['features'][i]['properties']['mag']),\n",
    "    event_line.append(json_data['features'][i]['properties']['magType']),\n",
    "    event_line.append(json_data['features'][i]['properties']['mmi']),\n",
    "    event_line.append(json_data['features'][i]['properties']['net']),\n",
    "    event_line.append(json_data['features'][i]['properties']['nst']),\n",
    "    event_line.append(json_data['features'][i]['properties']['place']),\n",
    "    event_line.append(json_data['features'][i]['properties']['rms']),\n",
    "    event_line.append(json_data['features'][i]['properties']['sig']),\n",
    "    event_line.append(json_data['features'][i]['properties']['sources']),\n",
    "    event_line.append(json_data['features'][i]['properties']['status']),\n",
    "    event_line.append(json_data['features'][i]['properties']['time']),\n",
    "    event_line.append(json_data['features'][i]['properties']['title']),\n",
    "    event_line.append(json_data['features'][i]['properties']['tsunami']),\n",
    "    event_line.append(json_data['features'][i]['properties']['type']),\n",
    "    event_line.append(json_data['features'][i]['properties']['types'][1:-1]),\n",
    "    event_line.append(json_data['features'][i]['properties']['tz']),\n",
    "    event_line.append(json_data['features'][i]['properties']['updated']),\n",
    "    event_line.append(json_data['features'][i]['properties']['url']),\n",
    "\n",
    "    event_list.append(event_line)\n",
    "\n",
    "# Show only two event as example    \n",
    "print event_list[0]\n",
    "print\n",
    "print event_list[1]"
   ]
  },
  {
   "cell_type": "code",
   "execution_count": 23,
   "metadata": {
    "collapsed": true
   },
   "outputs": [],
   "source": [
    "cols = ['id', 'lat', 'long', 'depth', 'alert', 'cdi', 'code', 'felt', 'gap', 'ids', 'mag', 'magType', \\\n",
    "        'mmi', 'net', 'nst', 'place', 'rms', 'sig', 'sources', 'status', 'time', 'title', 'tsunami', \\\n",
    "        'type', 'types', 'tz', 'updated', 'url']\n",
    "quakes = pd.DataFrame(event_list, columns = cols)"
   ]
  },
  {
   "cell_type": "code",
   "execution_count": 26,
   "metadata": {
    "scrolled": true
   },
   "outputs": [
    {
     "data": {
      "text/html": [
       "<div>\n",
       "<style>\n",
       "    .dataframe thead tr:only-child th {\n",
       "        text-align: right;\n",
       "    }\n",
       "\n",
       "    .dataframe thead th {\n",
       "        text-align: left;\n",
       "    }\n",
       "\n",
       "    .dataframe tbody tr th {\n",
       "        vertical-align: top;\n",
       "    }\n",
       "</style>\n",
       "<table border=\"1\" class=\"dataframe\">\n",
       "  <thead>\n",
       "    <tr style=\"text-align: right;\">\n",
       "      <th></th>\n",
       "      <th>id</th>\n",
       "      <th>lat</th>\n",
       "      <th>long</th>\n",
       "      <th>depth</th>\n",
       "      <th>alert</th>\n",
       "      <th>cdi</th>\n",
       "      <th>code</th>\n",
       "      <th>felt</th>\n",
       "      <th>gap</th>\n",
       "      <th>ids</th>\n",
       "      <th>...</th>\n",
       "      <th>sources</th>\n",
       "      <th>status</th>\n",
       "      <th>time</th>\n",
       "      <th>title</th>\n",
       "      <th>tsunami</th>\n",
       "      <th>type</th>\n",
       "      <th>types</th>\n",
       "      <th>tz</th>\n",
       "      <th>updated</th>\n",
       "      <th>url</th>\n",
       "    </tr>\n",
       "  </thead>\n",
       "  <tbody>\n",
       "    <tr>\n",
       "      <th>0</th>\n",
       "      <td>uw61297016</td>\n",
       "      <td>-122.607167</td>\n",
       "      <td>48.774167</td>\n",
       "      <td>16.27</td>\n",
       "      <td>None</td>\n",
       "      <td>3.8</td>\n",
       "      <td>61297016</td>\n",
       "      <td>286</td>\n",
       "      <td>99</td>\n",
       "      <td>uw61297016,us1000955h</td>\n",
       "      <td>...</td>\n",
       "      <td>,uw,us,</td>\n",
       "      <td>reviewed</td>\n",
       "      <td>1498725603370</td>\n",
       "      <td>M 3.1 - 4km S of Marietta, Washington</td>\n",
       "      <td>0</td>\n",
       "      <td>earthquake</td>\n",
       "      <td>dyfi,geoserve,origin,phase-data,shakemap</td>\n",
       "      <td>-480</td>\n",
       "      <td>1500447547040</td>\n",
       "      <td>https://earthquake.usgs.gov/earthquakes/eventp...</td>\n",
       "    </tr>\n",
       "    <tr>\n",
       "      <th>1</th>\n",
       "      <td>uw61276967</td>\n",
       "      <td>-121.667500</td>\n",
       "      <td>48.256500</td>\n",
       "      <td>8.47</td>\n",
       "      <td>None</td>\n",
       "      <td>3.8</td>\n",
       "      <td>61276967</td>\n",
       "      <td>31</td>\n",
       "      <td>74</td>\n",
       "      <td>uw61276967,us20009pki</td>\n",
       "      <td>...</td>\n",
       "      <td>,uw,us,</td>\n",
       "      <td>reviewed</td>\n",
       "      <td>1498361114610</td>\n",
       "      <td>M 2.9 - 4km W of Darrington, Washington</td>\n",
       "      <td>0</td>\n",
       "      <td>earthquake</td>\n",
       "      <td>dyfi,geoserve,origin,phase-data</td>\n",
       "      <td>-480</td>\n",
       "      <td>1501131675040</td>\n",
       "      <td>https://earthquake.usgs.gov/earthquakes/eventp...</td>\n",
       "    </tr>\n",
       "  </tbody>\n",
       "</table>\n",
       "<p>2 rows × 28 columns</p>\n",
       "</div>"
      ],
      "text/plain": [
       "           id         lat       long  depth alert  cdi      code  felt  gap  \\\n",
       "0  uw61297016 -122.607167  48.774167  16.27  None  3.8  61297016   286   99   \n",
       "1  uw61276967 -121.667500  48.256500   8.47  None  3.8  61276967    31   74   \n",
       "\n",
       "                     ids                        ...                          \\\n",
       "0  uw61297016,us1000955h                        ...                           \n",
       "1  uw61276967,us20009pki                        ...                           \n",
       "\n",
       "   sources    status           time                                    title  \\\n",
       "0  ,uw,us,  reviewed  1498725603370    M 3.1 - 4km S of Marietta, Washington   \n",
       "1  ,uw,us,  reviewed  1498361114610  M 2.9 - 4km W of Darrington, Washington   \n",
       "\n",
       "   tsunami        type                                     types   tz  \\\n",
       "0        0  earthquake  dyfi,geoserve,origin,phase-data,shakemap -480   \n",
       "1        0  earthquake           dyfi,geoserve,origin,phase-data -480   \n",
       "\n",
       "         updated                                                url  \n",
       "0  1500447547040  https://earthquake.usgs.gov/earthquakes/eventp...  \n",
       "1  1501131675040  https://earthquake.usgs.gov/earthquakes/eventp...  \n",
       "\n",
       "[2 rows x 28 columns]"
      ]
     },
     "execution_count": 26,
     "metadata": {},
     "output_type": "execute_result"
    }
   ],
   "source": [
    "quakes.head(2)"
   ]
  },
  {
   "cell_type": "code",
   "execution_count": 65,
   "metadata": {
    "scrolled": true
   },
   "outputs": [
    {
     "name": "stdout",
     "output_type": "stream",
     "text": [
      "<class 'pandas.core.frame.DataFrame'>\n",
      "RangeIndex: 30 entries, 0 to 29\n",
      "Data columns (total 28 columns):\n",
      "id         30 non-null object\n",
      "lat        30 non-null float64\n",
      "long       30 non-null float64\n",
      "depth      30 non-null float64\n",
      "alert      1 non-null object\n",
      "cdi        30 non-null float64\n",
      "code       30 non-null object\n",
      "felt       30 non-null int64\n",
      "gap        30 non-null int64\n",
      "ids        30 non-null object\n",
      "mag        30 non-null float64\n",
      "magType    30 non-null object\n",
      "mmi        17 non-null float64\n",
      "net        30 non-null object\n",
      "nst        25 non-null float64\n",
      "place      30 non-null object\n",
      "rms        30 non-null float64\n",
      "sig        30 non-null int64\n",
      "sources    30 non-null object\n",
      "status     30 non-null object\n",
      "time       30 non-null int64\n",
      "title      30 non-null object\n",
      "tsunami    30 non-null int64\n",
      "type       30 non-null object\n",
      "types      30 non-null object\n",
      "tz         30 non-null int64\n",
      "updated    30 non-null int64\n",
      "url        30 non-null object\n",
      "dtypes: float64(8), int64(7), object(13)\n",
      "memory usage: 6.6+ KB\n"
     ]
    }
   ],
   "source": [
    "quakes.info()"
   ]
  },
  {
   "cell_type": "code",
   "execution_count": 67,
   "metadata": {},
   "outputs": [
    {
     "data": {
      "text/plain": [
       "array([u'dyfi,geoserve,origin,phase-data,shakemap',\n",
       "       u'dyfi,geoserve,origin,phase-data',\n",
       "       u'dyfi,geoserve,moment-tensor,origin,phase-data,shakemap',\n",
       "       u'dyfi,geoserve,impact-link,losspager,moment-tensor,origin,phase-data,shakemap'], dtype=object)"
      ]
     },
     "execution_count": 67,
     "metadata": {},
     "output_type": "execute_result"
    }
   ],
   "source": [
    "quakes.types.unique()\n"
   ]
  },
  {
   "cell_type": "code",
   "execution_count": null,
   "metadata": {
    "collapsed": true
   },
   "outputs": [],
   "source": []
  },
  {
   "cell_type": "markdown",
   "metadata": {
    "collapsed": true
   },
   "source": [
    "## Pull actual data for continental US using USGS API.  \n",
    "\n",
    "This was done in sections, by editing and re-running the code below"
   ]
  },
  {
   "cell_type": "code",
   "execution_count": 32,
   "metadata": {
    "collapsed": true
   },
   "outputs": [],
   "source": [
    "import requests"
   ]
  },
  {
   "cell_type": "code",
   "execution_count": 5,
   "metadata": {
    "collapsed": true
   },
   "outputs": [],
   "source": [
    "# This is the ComCat reqeust to return earthquakes in WA and OR by lat long box, with magnitude > 2.5 \n",
    "# I did not limit it to dyfi (did you feel it) events, because I want to also examine any changes in \n",
    "# quake frenqency.  I pulled all data from 1970 to end of June 2017.\n"
   ]
  },
  {
   "cell_type": "code",
   "execution_count": 239,
   "metadata": {
    "collapsed": true
   },
   "outputs": [],
   "source": [
    "wc_url = \"https://earthquake.usgs.gov/fdsnws/event/1/query?format=geojson&starttime=1970-01-01&endtime=1974-12-31 \\\n",
    "&minlatitude=25&maxlatitude=49&minlongitude=-130&maxlongitude=-100\\\n",
    "&eventtype=earthquake&minmagnitude=2.5\""
   ]
  },
  {
   "cell_type": "code",
   "execution_count": 33,
   "metadata": {
    "collapsed": true
   },
   "outputs": [],
   "source": [
    "ec_url = \"https://earthquake.usgs.gov/fdsnws/event/1/query?format=geojson&starttime=2017-06-01&endtime=2017-06-30\\\n",
    "&minlatitude=25&maxlatitude=49&minlongitude=-99.9999&maxlongitude=-67\\\n",
    "&eventtype=earthquake&minmagnitude=2.5\""
   ]
  },
  {
   "cell_type": "code",
   "execution_count": 34,
   "metadata": {},
   "outputs": [
    {
     "data": {
      "text/plain": [
       "'https://earthquake.usgs.gov/fdsnws/event/1/query?format=geojson&starttime=2017-06-01&endtime=2017-06-30&minlatitude=25&maxlatitude=49&minlongitude=-99.9999&maxlongitude=-67&eventtype=earthquake&minmagnitude=2.5'"
      ]
     },
     "execution_count": 34,
     "metadata": {},
     "output_type": "execute_result"
    }
   ],
   "source": [
    "ec_url"
   ]
  },
  {
   "cell_type": "code",
   "execution_count": 35,
   "metadata": {},
   "outputs": [],
   "source": [
    "# Please do not re-run this section, it pulls a lot of data from the USGS comcat server.   This is restricted\n",
    "# to one month of eastern US data as an example.\n",
    "\n",
    "# Package the request, send the request and catch the response: r\n",
    "r = requests.get(ec_url)\n",
    "\n",
    "# Decode the JSON data into a dictionary: json_data\n",
    "json_data = r.json()"
   ]
  },
  {
   "cell_type": "code",
   "execution_count": 36,
   "metadata": {},
   "outputs": [
    {
     "data": {
      "text/plain": [
       "<Response [200]>"
      ]
     },
     "execution_count": 36,
     "metadata": {},
     "output_type": "execute_result"
    }
   ],
   "source": [
    "r"
   ]
  },
  {
   "cell_type": "code",
   "execution_count": 38,
   "metadata": {},
   "outputs": [
    {
     "name": "stdout",
     "output_type": "stream",
     "text": [
      "type\n",
      "features\n",
      "bbox\n",
      "metadata\n",
      "\n",
      "type FeatureCollection\n",
      "\n",
      "first feature\n",
      "{u'geometry': {u'type': u'Point', u'coordinates': [-98.8858, 36.5142, 5]}, u'type': u'Feature', u'properties': {u'rms': 0.59, u'code': u'100095bz', u'cdi': None, u'sources': u',us,', u'nst': None, u'tz': -360, u'title': u'M 2.8 - 29km ENE of Mooreland, Oklahoma', u'magType': u'mb_lg', u'detail': u'https://earthquake.usgs.gov/fdsnws/event/1/query?eventid=us100095bz&format=geojson', u'sig': 121, u'net': u'us', u'type': u'earthquake', u'status': u'reviewed', u'updated': 1506477798040, u'felt': None, u'alert': None, u'dmin': 0.239, u'mag': 2.8, u'gap': 109, u'types': u',geoserve,origin,phase-data,', u'url': u'https://earthquake.usgs.gov/earthquakes/eventpage/us100095bz', u'ids': u',us100095bz,', u'tsunami': 0, u'place': u'29km ENE of Mooreland, Oklahoma', u'time': 1498760916660, u'mmi': None}, u'id': u'us100095bz'}\n",
      "\n",
      "bbox [-99.6323, 32.925, 1.37, -74.9348, 46.1156, 24.51]\n",
      "\n",
      "metadata {u'status': 200, u'count': 98, u'title': u'USGS Earthquakes', u'url': u'https://earthquake.usgs.gov/fdsnws/event/1/query?format=geojson&starttime=2017-06-01&endtime=2017-06-30&minlatitude=25&maxlatitude=49&minlongitude=-99.9999&maxlongitude=-67&eventtype=earthquake&minmagnitude=2.5', u'generated': 1507041904000, u'api': u'1.5.8'}\n",
      "\n"
     ]
    }
   ],
   "source": [
    "# print the json, but only the first earthquake as example to shorten output\n",
    "\n",
    "for key, value in json_data.items():\n",
    "    print key\n",
    "    \n",
    "print    \n",
    "for key, value in json_data.items():\n",
    "    if key == 'features':\n",
    "        print \"first feature\"\n",
    "        print value[0]\n",
    "    else:    \n",
    "        print key, value\n",
    "    print"
   ]
  },
  {
   "cell_type": "code",
   "execution_count": 39,
   "metadata": {
    "collapsed": true
   },
   "outputs": [],
   "source": [
    "event_list = []\n",
    "for i in range(json_data['metadata']['count']):\n",
    "    event_line = []\n",
    "    event_line.append(json_data['features'][i]['id'])\n",
    "    event_line += json_data['features'][i]['geometry']['coordinates']\n",
    "    event_line.append(json_data['features'][i]['properties']['alert']),\n",
    "    event_line.append(json_data['features'][i]['properties']['cdi']),\n",
    "    event_line.append(json_data['features'][i]['properties']['code']),\n",
    "    event_line.append(json_data['features'][i]['properties']['detail']),\n",
    "    event_line.append(json_data['features'][i]['properties']['dmin']),\n",
    "    event_line.append(json_data['features'][i]['properties']['felt']),\n",
    "    event_line.append(json_data['features'][i]['properties']['gap']),\n",
    "    event_line.append(json_data['features'][i]['properties']['ids'][1:-1]),\n",
    "    event_line.append(json_data['features'][i]['properties']['mag']),\n",
    "    event_line.append(json_data['features'][i]['properties']['magType']),\n",
    "    event_line.append(json_data['features'][i]['properties']['mmi']),\n",
    "    event_line.append(json_data['features'][i]['properties']['net']),\n",
    "    event_line.append(json_data['features'][i]['properties']['nst']),\n",
    "    event_line.append(json_data['features'][i]['properties']['place']),\n",
    "    event_line.append(json_data['features'][i]['properties']['rms']),\n",
    "    event_line.append(json_data['features'][i]['properties']['sig']),\n",
    "    event_line.append(json_data['features'][i]['properties']['sources']),\n",
    "    event_line.append(json_data['features'][i]['properties']['status']),\n",
    "    event_line.append(json_data['features'][i]['properties']['time']),\n",
    "    event_line.append(json_data['features'][i]['properties']['title']),\n",
    "    event_line.append(json_data['features'][i]['properties']['tsunami']),\n",
    "    event_line.append(json_data['features'][i]['properties']['type']),\n",
    "    event_line.append(json_data['features'][i]['properties']['types'][1:-1]),\n",
    "    event_line.append(json_data['features'][i]['properties']['tz']),\n",
    "    event_line.append(json_data['features'][i]['properties']['updated']),\n",
    "    event_line.append(json_data['features'][i]['properties']['url']),\n",
    "\n",
    "    event_list.append(event_line)\n",
    "   "
   ]
  },
  {
   "cell_type": "code",
   "execution_count": 40,
   "metadata": {
    "collapsed": true
   },
   "outputs": [],
   "source": [
    "cols = ['id', 'lat', 'long', 'depth', 'alert', 'cdi', 'code', 'detail', 'dmin', 'felt', 'gap', 'ids', \\\n",
    "        'mag', 'magType', 'mmi', 'net', 'nst', 'place', 'rms', 'sig', 'sources', 'status', 'time', \\\n",
    "        'title', 'tsunami', 'type', 'types', 'tz', 'updated', 'url']\n",
    "quakes = pd.DataFrame(event_list, columns = cols)"
   ]
  },
  {
   "cell_type": "code",
   "execution_count": 41,
   "metadata": {},
   "outputs": [
    {
     "data": {
      "text/plain": [
       "(98, 30)"
      ]
     },
     "execution_count": 41,
     "metadata": {},
     "output_type": "execute_result"
    }
   ],
   "source": [
    "quakes.shape"
   ]
  },
  {
   "cell_type": "code",
   "execution_count": 42,
   "metadata": {},
   "outputs": [
    {
     "data": {
      "text/plain": [
       "(None,)"
      ]
     },
     "execution_count": 42,
     "metadata": {},
     "output_type": "execute_result"
    }
   ],
   "source": [
    "quakes.to_csv(\"./example_pull.csv\", index=False),"
   ]
  },
  {
   "cell_type": "code",
   "execution_count": 43,
   "metadata": {
    "scrolled": true
   },
   "outputs": [
    {
     "name": "stdout",
     "output_type": "stream",
     "text": [
      "<class 'pandas.core.frame.DataFrame'>\n",
      "RangeIndex: 98 entries, 0 to 97\n",
      "Data columns (total 30 columns):\n",
      "id         98 non-null object\n",
      "lat        98 non-null float64\n",
      "long       98 non-null float64\n",
      "depth      98 non-null float64\n",
      "alert      0 non-null object\n",
      "cdi        64 non-null float64\n",
      "code       98 non-null object\n",
      "detail     98 non-null object\n",
      "dmin       54 non-null float64\n",
      "felt       64 non-null float64\n",
      "gap        98 non-null int64\n",
      "ids        98 non-null object\n",
      "mag        98 non-null float64\n",
      "magType    98 non-null object\n",
      "mmi        12 non-null float64\n",
      "net        98 non-null object\n",
      "nst        11 non-null float64\n",
      "place      98 non-null object\n",
      "rms        98 non-null float64\n",
      "sig        98 non-null int64\n",
      "sources    98 non-null object\n",
      "status     98 non-null object\n",
      "time       98 non-null int64\n",
      "title      98 non-null object\n",
      "tsunami    98 non-null int64\n",
      "type       98 non-null object\n",
      "types      98 non-null object\n",
      "tz         98 non-null int64\n",
      "updated    98 non-null int64\n",
      "url        98 non-null object\n",
      "dtypes: float64(10), int64(6), object(14)\n",
      "memory usage: 23.0+ KB\n"
     ]
    }
   ],
   "source": [
    "quakes.info()"
   ]
  },
  {
   "cell_type": "markdown",
   "metadata": {
    "collapsed": true
   },
   "source": [
    "## Download complete - now to examine and clean it.\n",
    "\n",
    "After downloading the separate files for east and west coast, and for smaller year spans,  I recombined everything into one US-quake.csv file, 45MB in size.  This can be loaded and used as the dataset for this capstone project"
   ]
  },
  {
   "cell_type": "code",
   "execution_count": 74,
   "metadata": {},
   "outputs": [
    {
     "data": {
      "text/plain": [
       "(114503, 30)"
      ]
     },
     "execution_count": 74,
     "metadata": {},
     "output_type": "execute_result"
    }
   ],
   "source": [
    "import pandas as pd\n",
    "\n",
    "df = pd.read_csv('US-quake.csv')\n",
    "df.shape"
   ]
  },
  {
   "cell_type": "code",
   "execution_count": 75,
   "metadata": {},
   "outputs": [
    {
     "data": {
      "text/html": [
       "<div>\n",
       "<style>\n",
       "    .dataframe thead tr:only-child th {\n",
       "        text-align: right;\n",
       "    }\n",
       "\n",
       "    .dataframe thead th {\n",
       "        text-align: left;\n",
       "    }\n",
       "\n",
       "    .dataframe tbody tr th {\n",
       "        vertical-align: top;\n",
       "    }\n",
       "</style>\n",
       "<table border=\"1\" class=\"dataframe\">\n",
       "  <thead>\n",
       "    <tr style=\"text-align: right;\">\n",
       "      <th></th>\n",
       "      <th>id</th>\n",
       "      <th>lat</th>\n",
       "      <th>long</th>\n",
       "      <th>depth</th>\n",
       "      <th>alert</th>\n",
       "      <th>cdi</th>\n",
       "      <th>code</th>\n",
       "      <th>detail</th>\n",
       "      <th>dmin</th>\n",
       "      <th>felt</th>\n",
       "      <th>...</th>\n",
       "      <th>sources</th>\n",
       "      <th>status</th>\n",
       "      <th>time</th>\n",
       "      <th>title</th>\n",
       "      <th>tsunami</th>\n",
       "      <th>type</th>\n",
       "      <th>types</th>\n",
       "      <th>tz</th>\n",
       "      <th>updated</th>\n",
       "      <th>url</th>\n",
       "    </tr>\n",
       "  </thead>\n",
       "  <tbody>\n",
       "    <tr>\n",
       "      <th>0</th>\n",
       "      <td>nc1022389</td>\n",
       "      <td>-121.873500</td>\n",
       "      <td>36.593000</td>\n",
       "      <td>4.946</td>\n",
       "      <td>NaN</td>\n",
       "      <td>NaN</td>\n",
       "      <td>1022389</td>\n",
       "      <td>https://earthquake.usgs.gov/fdsnws/event/1/que...</td>\n",
       "      <td>0.03694</td>\n",
       "      <td>NaN</td>\n",
       "      <td>...</td>\n",
       "      <td>,nc,</td>\n",
       "      <td>reviewed</td>\n",
       "      <td>1.576600e+11</td>\n",
       "      <td>M 3.4 - Central California</td>\n",
       "      <td>0</td>\n",
       "      <td>earthquake</td>\n",
       "      <td>focal-mechanism,nearby-cities,origin,phase-data</td>\n",
       "      <td>NaN</td>\n",
       "      <td>1.481760e+12</td>\n",
       "      <td>https://earthquake.usgs.gov/earthquakes/eventp...</td>\n",
       "    </tr>\n",
       "    <tr>\n",
       "      <th>1</th>\n",
       "      <td>nc1022388</td>\n",
       "      <td>-121.464500</td>\n",
       "      <td>36.929000</td>\n",
       "      <td>3.946</td>\n",
       "      <td>NaN</td>\n",
       "      <td>NaN</td>\n",
       "      <td>1022388</td>\n",
       "      <td>https://earthquake.usgs.gov/fdsnws/event/1/que...</td>\n",
       "      <td>0.04144</td>\n",
       "      <td>NaN</td>\n",
       "      <td>...</td>\n",
       "      <td>,nc,</td>\n",
       "      <td>reviewed</td>\n",
       "      <td>1.576470e+11</td>\n",
       "      <td>M 3.0 - Central California</td>\n",
       "      <td>0</td>\n",
       "      <td>earthquake</td>\n",
       "      <td>nearby-cities,origin,phase-data</td>\n",
       "      <td>NaN</td>\n",
       "      <td>1.481760e+12</td>\n",
       "      <td>https://earthquake.usgs.gov/earthquakes/eventp...</td>\n",
       "    </tr>\n",
       "    <tr>\n",
       "      <th>2</th>\n",
       "      <td>ci3319041</td>\n",
       "      <td>-116.128833</td>\n",
       "      <td>29.907667</td>\n",
       "      <td>6.000</td>\n",
       "      <td>NaN</td>\n",
       "      <td>NaN</td>\n",
       "      <td>3319041</td>\n",
       "      <td>https://earthquake.usgs.gov/fdsnws/event/1/que...</td>\n",
       "      <td>2.73400</td>\n",
       "      <td>NaN</td>\n",
       "      <td>...</td>\n",
       "      <td>,ci,</td>\n",
       "      <td>reviewed</td>\n",
       "      <td>1.576410e+11</td>\n",
       "      <td>M 4.6 - 206km SSE of Maneadero, B.C., MX</td>\n",
       "      <td>0</td>\n",
       "      <td>earthquake</td>\n",
       "      <td>origin,phase-data</td>\n",
       "      <td>NaN</td>\n",
       "      <td>1.454030e+12</td>\n",
       "      <td>https://earthquake.usgs.gov/earthquakes/eventp...</td>\n",
       "    </tr>\n",
       "  </tbody>\n",
       "</table>\n",
       "<p>3 rows × 30 columns</p>\n",
       "</div>"
      ],
      "text/plain": [
       "          id         lat       long  depth alert  cdi     code  \\\n",
       "0  nc1022389 -121.873500  36.593000  4.946   NaN  NaN  1022389   \n",
       "1  nc1022388 -121.464500  36.929000  3.946   NaN  NaN  1022388   \n",
       "2  ci3319041 -116.128833  29.907667  6.000   NaN  NaN  3319041   \n",
       "\n",
       "                                              detail     dmin  felt  \\\n",
       "0  https://earthquake.usgs.gov/fdsnws/event/1/que...  0.03694   NaN   \n",
       "1  https://earthquake.usgs.gov/fdsnws/event/1/que...  0.04144   NaN   \n",
       "2  https://earthquake.usgs.gov/fdsnws/event/1/que...  2.73400   NaN   \n",
       "\n",
       "                         ...                          sources    status  \\\n",
       "0                        ...                             ,nc,  reviewed   \n",
       "1                        ...                             ,nc,  reviewed   \n",
       "2                        ...                             ,ci,  reviewed   \n",
       "\n",
       "           time                                     title  tsunami  \\\n",
       "0  1.576600e+11                M 3.4 - Central California        0   \n",
       "1  1.576470e+11                M 3.0 - Central California        0   \n",
       "2  1.576410e+11  M 4.6 - 206km SSE of Maneadero, B.C., MX        0   \n",
       "\n",
       "         type                                            types  tz  \\\n",
       "0  earthquake  focal-mechanism,nearby-cities,origin,phase-data NaN   \n",
       "1  earthquake                  nearby-cities,origin,phase-data NaN   \n",
       "2  earthquake                                origin,phase-data NaN   \n",
       "\n",
       "        updated                                                url  \n",
       "0  1.481760e+12  https://earthquake.usgs.gov/earthquakes/eventp...  \n",
       "1  1.481760e+12  https://earthquake.usgs.gov/earthquakes/eventp...  \n",
       "2  1.454030e+12  https://earthquake.usgs.gov/earthquakes/eventp...  \n",
       "\n",
       "[3 rows x 30 columns]"
      ]
     },
     "execution_count": 75,
     "metadata": {},
     "output_type": "execute_result"
    }
   ],
   "source": [
    "df.head(3)"
   ]
  },
  {
   "cell_type": "code",
   "execution_count": 76,
   "metadata": {},
   "outputs": [
    {
     "name": "stdout",
     "output_type": "stream",
     "text": [
      "<class 'pandas.core.frame.DataFrame'>\n",
      "RangeIndex: 114503 entries, 0 to 114502\n",
      "Data columns (total 30 columns):\n",
      "id         114503 non-null object\n",
      "lat        114503 non-null float64\n",
      "long       114503 non-null float64\n",
      "depth      114498 non-null float64\n",
      "alert      693 non-null object\n",
      "cdi        14130 non-null float64\n",
      "code       114503 non-null object\n",
      "detail     114503 non-null object\n",
      "dmin       68118 non-null float64\n",
      "felt       14130 non-null float64\n",
      "gap        105961 non-null float64\n",
      "ids        114503 non-null object\n",
      "mag        114503 non-null float64\n",
      "magType    114417 non-null object\n",
      "mmi        2955 non-null float64\n",
      "net        114503 non-null object\n",
      "nst        98355 non-null float64\n",
      "place      114503 non-null object\n",
      "rms        108641 non-null float64\n",
      "sig        114503 non-null int64\n",
      "sources    114503 non-null object\n",
      "status     114503 non-null object\n",
      "time       114503 non-null float64\n",
      "title      114503 non-null object\n",
      "tsunami    114503 non-null int64\n",
      "type       114503 non-null object\n",
      "types      114503 non-null object\n",
      "tz         17198 non-null float64\n",
      "updated    114503 non-null float64\n",
      "url        114503 non-null object\n",
      "dtypes: float64(14), int64(2), object(14)\n",
      "memory usage: 26.2+ MB\n"
     ]
    }
   ],
   "source": [
    "df.info()"
   ]
  },
  {
   "cell_type": "markdown",
   "metadata": {},
   "source": [
    "## Discussion\n",
    "\n",
    "Everything is currently text, and there is missing data.   This is expected, as not all information is recorded for every quake.  \n",
    "\n",
    "A data dictionary describing this data is availabe at https://earthquake.usgs.gov/data/comcat/data-eventterms.php   \n",
    "\n",
    "Of most importance to this project will be **time, lat, long, depth, magnitude, mmi** and **cdi.**  \n",
    "\n",
    "time       114514 non-null object  \n",
    "id         114514 non-null object  \n",
    "lat        114514 non-null object  \n",
    "long       114514 non-null object  \n",
    "depth      114509 non-null object  \n",
    "mag        114514 non-null object  \n",
    "mmi        2966 non-null object  \n",
    "cdi        14141 non-null object  \n",
    "\n",
    "All but **mmi** and **cdi** are compete.   \n",
    "\n",
    "The Modified Mercali Intensity (mmi) is only computed for quakes that cause damage, and cdi is computed from citizen reports beginning around 2005.  The full dataset will be used to examine any changes in earthquake frequency over time, and the smaller dataset of mmi/cdi will be used to calibrate the cdi intensity data.  With that done, the slighty larger cdi dataset can be used to explore the relationship between magnitude and intensity, and to validate the current formulas, and to develop new, more regionally focused, formulas.  \n",
    "  \n",
    "My evolving list of questions to attempt to answer with this data include ...\n",
    "\n",
    "- have there been any increase or decrease in # of quakes in specific regions?\n",
    "   - by depth, by magnitude, by intensity  \n",
    "   - can we group by state, by zip code, by geologic unit, by fault zone …  \n",
    "     - need to geocode, and somehow classify geologic characteristics  \n",
    "   - can it be correlated to human activity, especially fracking or injection (these are separate)   \n",
    "   \n",
    "- Are there more discrete regional differences in magnitude/intensity relationship ",
    "  \n",
    "  \n",
    "- Is citizen reported DYFI data, converted to CDI, accurate.  Does it correspond with MMI ",
    "\n"
   ]
  },
  {
   "cell_type": "code",
   "execution_count": null,
   "metadata": {
    "collapsed": true
   },
   "outputs": [],
   "source": []
  },
  {
   "cell_type": "code",
   "execution_count": 77,
   "metadata": {
    "scrolled": false
   },
   "outputs": [
    {
     "name": "stdout",
     "output_type": "stream",
     "text": [
      "<class 'pandas.core.frame.DataFrame'>\n",
      "RangeIndex: 114503 entries, 0 to 114502\n",
      "Data columns (total 30 columns):\n",
      "id         114503 non-null object\n",
      "lat        114503 non-null float64\n",
      "long       114503 non-null float64\n",
      "depth      114498 non-null float64\n",
      "alert      114503 non-null float64\n",
      "cdi        14130 non-null float64\n",
      "code       114503 non-null object\n",
      "detail     114503 non-null object\n",
      "dmin       68118 non-null float64\n",
      "felt       14130 non-null float64\n",
      "gap        105961 non-null float64\n",
      "ids        114503 non-null object\n",
      "mag        114503 non-null float64\n",
      "magType    114417 non-null object\n",
      "mmi        2955 non-null float64\n",
      "net        114503 non-null object\n",
      "nst        98355 non-null float64\n",
      "place      114503 non-null object\n",
      "rms        108641 non-null float64\n",
      "sig        114503 non-null int64\n",
      "sources    114503 non-null object\n",
      "status     114503 non-null object\n",
      "time       114503 non-null datetime64[ns]\n",
      "title      114503 non-null object\n",
      "tsunami    114503 non-null bool\n",
      "type       114503 non-null object\n",
      "types      114503 non-null object\n",
      "tz         17198 non-null float64\n",
      "updated    114503 non-null datetime64[ns]\n",
      "url        114503 non-null object\n",
      "dtypes: bool(1), datetime64[ns](2), float64(13), int64(1), object(13)\n",
      "memory usage: 25.4+ MB\n"
     ]
    }
   ],
   "source": [
    "# Continuous Data\n",
    "#    Convert to float\n",
    "#       lat, long, depth, cdi, dmin, gap, mag, mmi, rms\n",
    "df[['lat','long', 'depth', 'cdi', 'dmin', 'gap', 'mag', 'mmi', 'rms']] = \\\n",
    "df[['lat','long', 'depth', 'cdi', 'dmin', 'gap', 'mag', 'mmi', 'rms']].apply(pd.to_numeric, errors='coerce')\n",
    "\n",
    "#    Convert to int\n",
    "#       felt, nst, sig, tz(need to learn what this is)\n",
    "df[['felt', 'nst', 'sig', 'tz']] = df[['felt', 'nst', 'sig', 'tz']].apply(pd.to_numeric, errors='coerce')\n",
    "# Need to deal with the NaNs before casting as integer \n",
    "# df['felt'] = df['felt'].astype(int)\n",
    "# df['nst'] = df['nst'].astype(int)\n",
    "# df['sig'] = df['sig'].astype(int)\n",
    "# df['tz'] = df['tz'].astype(int)\n",
    "\n",
    "# Convert to boolian \n",
    "#   tsunami\n",
    "df['tsunami'] = df['tsunami'].apply(pd.to_numeric, errors='coerce')\n",
    "df['tsunami'] = df['tsunami'].astype(bool)\n",
    "\n",
    "# Convert to date/time  \n",
    "#           see: https://stackoverflow.com/questions/21787496/converting-epoch-time-with-milliseconds-to-datetime\n",
    "#           example code given in cell below\n",
    "#   time, updated\n",
    "\n",
    "import datetime\n",
    "\n",
    "df['time'] = df['time'].apply(pd.to_numeric)\n",
    "df['updated'] = df['updated'].apply(pd.to_numeric)\n",
    "\n",
    "df['time'] = df['time'].astype(int)\n",
    "df['updated'] = df['updated'].astype(int)\n",
    "\n",
    "df['time'] = df['time'].apply(lambda x: datetime.datetime.fromtimestamp(int(x)/1000.0) )\n",
    "df['updated'] = df['updated'].apply(lambda x: datetime.datetime.fromtimestamp(int(x)/1000.0) )\n",
    "\n",
    "\n",
    "# Convert to ordinal \n",
    "#   alert\n",
    "#\n",
    "# This code will convert, but how to handle blanks, which mean no alert issued? \n",
    "# Is it OK to make them 0, or does that give some unintended importance?\n",
    "def ordinize(strval, ordered_list, start_idx, idx_skip):\n",
    "    i = 0\n",
    "    for val in ordered_list:\n",
    "        if strval == val:\n",
    "            return i*idx_skip + start_idx\n",
    "        i += 1\n",
    "\n",
    "df['alert'] = df['alert'].apply(lambda x: ordinize(x, ['green', 'yellow', 'red'], 1, 1))\n",
    "df['alert'] = df['alert'].fillna(value=0)\n",
    "\n",
    "# dummy (if used - not sure they will be needed for any of the project goals)\n",
    "#   magType, net, sources, status\n",
    "\n",
    "# leave as string (informational and reference only, not needed for model learning or prediction)\n",
    "#   id, code detail, ids, place, title, type, types, url\n",
    "\n",
    "df.info()"
   ]
  },
  {
   "cell_type": "code",
   "execution_count": 82,
   "metadata": {},
   "outputs": [
    {
     "name": "stderr",
     "output_type": "stream",
     "text": [
      "/Users/erhepp/anaconda/lib/python2.7/site-packages/ipykernel_launcher.py:7: SettingWithCopyWarning: \n",
      "A value is trying to be set on a copy of a slice from a DataFrame.\n",
      "Try using .loc[row_indexer,col_indexer] = value instead\n",
      "\n",
      "See the caveats in the documentation: http://pandas.pydata.org/pandas-docs/stable/indexing.html#indexing-view-versus-copy\n",
      "  import sys\n"
     ]
    }
   ],
   "source": [
    "# Deal with missing values\n",
    "\n",
    "# Depth: 5 missing - delete these rows\n",
    "df = df.dropna(subset=['depth'])\n",
    "\n",
    "# magType: 86 missing,  fill with 'Unknown'  (there is one existing with Unknown)\n",
    "df['magType'] = df['magType'].fillna(value='Unknown')\n",
    "\n",
    "\n",
    "# cdi, mmi, felt:  Leave as NaN, analysis of mmi cdi/felt relationship will be done for existing values only\n",
    "# dmin, gap, nst, rms, tz: Leave as NaN, no planned analysis or modeling uses these features."
   ]
  },
  {
   "cell_type": "code",
   "execution_count": 83,
   "metadata": {},
   "outputs": [
    {
     "name": "stdout",
     "output_type": "stream",
     "text": [
      "<class 'pandas.core.frame.DataFrame'>\n",
      "Int64Index: 114498 entries, 0 to 114502\n",
      "Data columns (total 30 columns):\n",
      "id         114498 non-null object\n",
      "lat        114498 non-null float64\n",
      "long       114498 non-null float64\n",
      "depth      114498 non-null float64\n",
      "alert      114498 non-null float64\n",
      "cdi        14130 non-null float64\n",
      "code       114498 non-null object\n",
      "detail     114498 non-null object\n",
      "dmin       68118 non-null float64\n",
      "felt       14130 non-null float64\n",
      "gap        105961 non-null float64\n",
      "ids        114498 non-null object\n",
      "mag        114498 non-null float64\n",
      "magType    114498 non-null object\n",
      "mmi        2955 non-null float64\n",
      "net        114498 non-null object\n",
      "nst        98355 non-null float64\n",
      "place      114498 non-null object\n",
      "rms        108641 non-null float64\n",
      "sig        114498 non-null int64\n",
      "sources    114498 non-null object\n",
      "status     114498 non-null object\n",
      "time       114498 non-null datetime64[ns]\n",
      "title      114498 non-null object\n",
      "tsunami    114498 non-null bool\n",
      "type       114498 non-null object\n",
      "types      114498 non-null object\n",
      "tz         17198 non-null float64\n",
      "updated    114498 non-null datetime64[ns]\n",
      "url        114498 non-null object\n",
      "dtypes: bool(1), datetime64[ns](2), float64(13), int64(1), object(13)\n",
      "memory usage: 26.3+ MB\n"
     ]
    }
   ],
   "source": [
    "df.info()"
   ]
  },
  {
   "cell_type": "code",
   "execution_count": 36,
   "metadata": {},
   "outputs": [
    {
     "data": {
      "text/html": [
       "<div>\n",
       "<style>\n",
       "    .dataframe thead tr:only-child th {\n",
       "        text-align: right;\n",
       "    }\n",
       "\n",
       "    .dataframe thead th {\n",
       "        text-align: left;\n",
       "    }\n",
       "\n",
       "    .dataframe tbody tr th {\n",
       "        vertical-align: top;\n",
       "    }\n",
       "</style>\n",
       "<table border=\"1\" class=\"dataframe\">\n",
       "  <thead>\n",
       "    <tr style=\"text-align: right;\">\n",
       "      <th></th>\n",
       "      <th>id</th>\n",
       "      <th>lat</th>\n",
       "      <th>long</th>\n",
       "      <th>depth</th>\n",
       "      <th>alert</th>\n",
       "      <th>cdi</th>\n",
       "      <th>code</th>\n",
       "      <th>detail</th>\n",
       "      <th>dmin</th>\n",
       "      <th>felt</th>\n",
       "      <th>...</th>\n",
       "      <th>sources</th>\n",
       "      <th>status</th>\n",
       "      <th>time</th>\n",
       "      <th>title</th>\n",
       "      <th>tsunami</th>\n",
       "      <th>type</th>\n",
       "      <th>types</th>\n",
       "      <th>tz</th>\n",
       "      <th>updated</th>\n",
       "      <th>url</th>\n",
       "    </tr>\n",
       "  </thead>\n",
       "  <tbody>\n",
       "    <tr>\n",
       "      <th>0</th>\n",
       "      <td>nc1022389</td>\n",
       "      <td>-121.873500</td>\n",
       "      <td>36.593000</td>\n",
       "      <td>4.946</td>\n",
       "      <td>NaN</td>\n",
       "      <td>NaN</td>\n",
       "      <td>1022389</td>\n",
       "      <td>https://earthquake.usgs.gov/fdsnws/event/1/que...</td>\n",
       "      <td>0.03694</td>\n",
       "      <td>NaN</td>\n",
       "      <td>...</td>\n",
       "      <td>,nc,</td>\n",
       "      <td>reviewed</td>\n",
       "      <td>157660096830</td>\n",
       "      <td>M 3.4 - Central California</td>\n",
       "      <td>False</td>\n",
       "      <td>earthquake</td>\n",
       "      <td>focal-mechanism,nearby-cities,origin,phase-data</td>\n",
       "      <td>NaN</td>\n",
       "      <td>1481756564940</td>\n",
       "      <td>https://earthquake.usgs.gov/earthquakes/eventp...</td>\n",
       "    </tr>\n",
       "    <tr>\n",
       "      <th>1</th>\n",
       "      <td>nc1022388</td>\n",
       "      <td>-121.464500</td>\n",
       "      <td>36.929000</td>\n",
       "      <td>3.946</td>\n",
       "      <td>NaN</td>\n",
       "      <td>NaN</td>\n",
       "      <td>1022388</td>\n",
       "      <td>https://earthquake.usgs.gov/fdsnws/event/1/que...</td>\n",
       "      <td>0.04144</td>\n",
       "      <td>NaN</td>\n",
       "      <td>...</td>\n",
       "      <td>,nc,</td>\n",
       "      <td>reviewed</td>\n",
       "      <td>157646814820</td>\n",
       "      <td>M 3.0 - Central California</td>\n",
       "      <td>False</td>\n",
       "      <td>earthquake</td>\n",
       "      <td>nearby-cities,origin,phase-data</td>\n",
       "      <td>NaN</td>\n",
       "      <td>1481756553974</td>\n",
       "      <td>https://earthquake.usgs.gov/earthquakes/eventp...</td>\n",
       "    </tr>\n",
       "    <tr>\n",
       "      <th>2</th>\n",
       "      <td>ci3319041</td>\n",
       "      <td>-116.128833</td>\n",
       "      <td>29.907667</td>\n",
       "      <td>6.000</td>\n",
       "      <td>NaN</td>\n",
       "      <td>NaN</td>\n",
       "      <td>3319041</td>\n",
       "      <td>https://earthquake.usgs.gov/fdsnws/event/1/que...</td>\n",
       "      <td>2.73400</td>\n",
       "      <td>NaN</td>\n",
       "      <td>...</td>\n",
       "      <td>,ci,</td>\n",
       "      <td>reviewed</td>\n",
       "      <td>157641167870</td>\n",
       "      <td>M 4.6 - 206km SSE of Maneadero, B.C., MX</td>\n",
       "      <td>False</td>\n",
       "      <td>earthquake</td>\n",
       "      <td>origin,phase-data</td>\n",
       "      <td>NaN</td>\n",
       "      <td>1454032083640</td>\n",
       "      <td>https://earthquake.usgs.gov/earthquakes/eventp...</td>\n",
       "    </tr>\n",
       "    <tr>\n",
       "      <th>3</th>\n",
       "      <td>usp00009ad</td>\n",
       "      <td>-116.402000</td>\n",
       "      <td>30.424000</td>\n",
       "      <td>33.000</td>\n",
       "      <td>NaN</td>\n",
       "      <td>NaN</td>\n",
       "      <td>p00009ad</td>\n",
       "      <td>https://earthquake.usgs.gov/fdsnws/event/1/que...</td>\n",
       "      <td>NaN</td>\n",
       "      <td>NaN</td>\n",
       "      <td>...</td>\n",
       "      <td>,us,</td>\n",
       "      <td>reviewed</td>\n",
       "      <td>157641135300</td>\n",
       "      <td>M 4.0 - offshore Baja California, Mexico</td>\n",
       "      <td>False</td>\n",
       "      <td>earthquake</td>\n",
       "      <td>origin</td>\n",
       "      <td>NaN</td>\n",
       "      <td>1415316088071</td>\n",
       "      <td>https://earthquake.usgs.gov/earthquakes/eventp...</td>\n",
       "    </tr>\n",
       "    <tr>\n",
       "      <th>4</th>\n",
       "      <td>usp000099y</td>\n",
       "      <td>-116.185000</td>\n",
       "      <td>30.757000</td>\n",
       "      <td>33.000</td>\n",
       "      <td>NaN</td>\n",
       "      <td>NaN</td>\n",
       "      <td>p000099y</td>\n",
       "      <td>https://earthquake.usgs.gov/fdsnws/event/1/que...</td>\n",
       "      <td>NaN</td>\n",
       "      <td>NaN</td>\n",
       "      <td>...</td>\n",
       "      <td>,ci,us,</td>\n",
       "      <td>reviewed</td>\n",
       "      <td>157550821500</td>\n",
       "      <td>M 4.2 - offshore Baja California, Mexico</td>\n",
       "      <td>False</td>\n",
       "      <td>earthquake</td>\n",
       "      <td>origin,phase-data</td>\n",
       "      <td>NaN</td>\n",
       "      <td>1454030304990</td>\n",
       "      <td>https://earthquake.usgs.gov/earthquakes/eventp...</td>\n",
       "    </tr>\n",
       "  </tbody>\n",
       "</table>\n",
       "<p>5 rows × 30 columns</p>\n",
       "</div>"
      ],
      "text/plain": [
       "           id         lat       long   depth alert  cdi      code  \\\n",
       "0   nc1022389 -121.873500  36.593000   4.946   NaN  NaN   1022389   \n",
       "1   nc1022388 -121.464500  36.929000   3.946   NaN  NaN   1022388   \n",
       "2   ci3319041 -116.128833  29.907667   6.000   NaN  NaN   3319041   \n",
       "3  usp00009ad -116.402000  30.424000  33.000   NaN  NaN  p00009ad   \n",
       "4  usp000099y -116.185000  30.757000  33.000   NaN  NaN  p000099y   \n",
       "\n",
       "                                              detail     dmin  felt  \\\n",
       "0  https://earthquake.usgs.gov/fdsnws/event/1/que...  0.03694   NaN   \n",
       "1  https://earthquake.usgs.gov/fdsnws/event/1/que...  0.04144   NaN   \n",
       "2  https://earthquake.usgs.gov/fdsnws/event/1/que...  2.73400   NaN   \n",
       "3  https://earthquake.usgs.gov/fdsnws/event/1/que...      NaN   NaN   \n",
       "4  https://earthquake.usgs.gov/fdsnws/event/1/que...      NaN   NaN   \n",
       "\n",
       "                         ...                          sources    status  \\\n",
       "0                        ...                             ,nc,  reviewed   \n",
       "1                        ...                             ,nc,  reviewed   \n",
       "2                        ...                             ,ci,  reviewed   \n",
       "3                        ...                             ,us,  reviewed   \n",
       "4                        ...                          ,ci,us,  reviewed   \n",
       "\n",
       "           time                                     title  tsunami  \\\n",
       "0  157660096830                M 3.4 - Central California    False   \n",
       "1  157646814820                M 3.0 - Central California    False   \n",
       "2  157641167870  M 4.6 - 206km SSE of Maneadero, B.C., MX    False   \n",
       "3  157641135300  M 4.0 - offshore Baja California, Mexico    False   \n",
       "4  157550821500  M 4.2 - offshore Baja California, Mexico    False   \n",
       "\n",
       "         type                                            types  tz  \\\n",
       "0  earthquake  focal-mechanism,nearby-cities,origin,phase-data NaN   \n",
       "1  earthquake                  nearby-cities,origin,phase-data NaN   \n",
       "2  earthquake                                origin,phase-data NaN   \n",
       "3  earthquake                                           origin NaN   \n",
       "4  earthquake                                origin,phase-data NaN   \n",
       "\n",
       "         updated                                                url  \n",
       "0  1481756564940  https://earthquake.usgs.gov/earthquakes/eventp...  \n",
       "1  1481756553974  https://earthquake.usgs.gov/earthquakes/eventp...  \n",
       "2  1454032083640  https://earthquake.usgs.gov/earthquakes/eventp...  \n",
       "3  1415316088071  https://earthquake.usgs.gov/earthquakes/eventp...  \n",
       "4  1454030304990  https://earthquake.usgs.gov/earthquakes/eventp...  \n",
       "\n",
       "[5 rows x 30 columns]"
      ]
     },
     "execution_count": 36,
     "metadata": {},
     "output_type": "execute_result"
    }
   ],
   "source": [
    "df.head()"
   ]
  },
  {
   "cell_type": "markdown",
   "metadata": {},
   "source": [
    "## Prototype methods for handling the time data"
   ]
  },
  {
   "cell_type": "code",
   "execution_count": 31,
   "metadata": {},
   "outputs": [
    {
     "name": "stdout",
     "output_type": "stream",
     "text": [
      "2016-12-14 23:02:33.974\n"
     ]
    }
   ],
   "source": [
    "# Here are the methods for dealing with the two time in milliseconds since the epoch (1970).  I'm leaving times\n",
    "# In the dataframe, I'm leaving the times as 11 digit integors, and for the moment plan to deal with the \n",
    "# conversions when the times are needed for something.  The milliseconds are important in seismology for\n",
    "# accurate compuation of location and magnitude, it's not clear to me yet whether that will need to be maintained\n",
    "# for display\n",
    "\n",
    "import time\n",
    "\n",
    "ttime = 1481756553974   # example time value for test\n",
    "s, ms = divmod(ttime, 1000) \n",
    "print '{}.{:03d}'.format(time.strftime('%Y-%m-%d %H:%M:%S', time.gmtime(s)), ms)"
   ]
  },
  {
   "cell_type": "code",
   "execution_count": 2,
   "metadata": {},
   "outputs": [
    {
     "name": "stdout",
     "output_type": "stream",
     "text": [
      " ttime: 1481756553\n",
      "fromtimestamp(ttime): 2016-12-14\n"
     ]
    }
   ],
   "source": [
    "import datetime\n",
    "import time\n",
    "\n",
    "ttime = 1481756553974/1000   # example time value for test\n",
    "\n",
    "print 'ttime:', ttime\n",
    "print 'fromtimestamp(ttime):', datetime.date.fromtimestamp(ttime)\n",
    "\n"
   ]
  },
  {
   "cell_type": "code",
   "execution_count": 5,
   "metadata": {},
   "outputs": [
    {
     "name": "stdout",
     "output_type": "stream",
     "text": [
      " Now    : 2017-08-20 13:04:44.009927\n",
      "Today  : 2017-08-20 13:04:44.010349\n",
      "UTC Now: 2017-08-20 17:04:44.010535\n",
      "year : 2017\n",
      "month : 8\n",
      "day : 20\n",
      "hour : 13\n",
      "minute : 4\n",
      "second : 44\n",
      "microsecond : 10849\n"
     ]
    }
   ],
   "source": [
    "print 'Now    :', datetime.datetime.now()\n",
    "print 'Today  :', datetime.datetime.today()\n",
    "print 'UTC Now:', datetime.datetime.utcnow()\n",
    "\n",
    "d = datetime.datetime.now()\n",
    "for attr in [ 'year', 'month', 'day', 'hour', 'minute', 'second', 'microsecond']:\n",
    "    print attr, ':', getattr(d, attr)\n"
   ]
  },
  {
   "cell_type": "code",
   "execution_count": 14,
   "metadata": {},
   "outputs": [
    {
     "name": "stdout",
     "output_type": "stream",
     "text": [
      "1481756553.97\n",
      "1975-12-14 18:02:33.974000\n",
      "year : 2016\n",
      "month : 12\n",
      "day : 14\n",
      "hour : 18\n",
      "minute : 2\n",
      "second : 33\n",
      "microsecond : 974000\n"
     ]
    }
   ],
   "source": [
    "import datetime\n",
    "ttime = 1481756553974/float(1000)   # example time value for test\n",
    "print ttime\n",
    "\n",
    "dt = datetime.datetime.fromtimestamp(ttime)\n",
    "\n",
    "for attr in [ 'year', 'month', 'day', 'hour', 'minute', 'second', 'microsecond']:\n",
    "    print attr, ':', getattr(dt, attr)\n"
   ]
  }
 ],
 "metadata": {
  "kernelspec": {
   "display_name": "Python 2",
   "language": "python",
   "name": "python2"
  },
  "language_info": {
   "codemirror_mode": {
    "name": "ipython",
    "version": 2
   },
   "file_extension": ".py",
   "mimetype": "text/x-python",
   "name": "python",
   "nbconvert_exporter": "python",
   "pygments_lexer": "ipython2",
   "version": "2.7.13"
  }
 },
 "nbformat": 4,
 "nbformat_minor": 2
}
